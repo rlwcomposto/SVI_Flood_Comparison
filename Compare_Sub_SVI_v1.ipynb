{
 "cells": [
  {
   "attachments": {},
   "cell_type": "markdown",
   "metadata": {},
   "source": [
    "### Compare Subnational to SVI\n",
    "Compare subnational data to SVI data in the USA."
   ]
  },
  {
   "attachments": {},
   "cell_type": "markdown",
   "metadata": {},
   "source": [
    "#### 1. Clean Data"
   ]
  },
  {
   "cell_type": "code",
   "execution_count": 1,
   "metadata": {},
   "outputs": [],
   "source": [
    "# Import functions\n",
    "import numpy as np\n",
    "import pandas as pd\n",
    "import os"
   ]
  },
  {
   "cell_type": "code",
   "execution_count": 2,
   "metadata": {},
   "outputs": [
    {
     "data": {
      "text/plain": [
       "'C:\\\\Users\\\\rcompos\\\\OneDrive - North Carolina State University\\\\Documents\\\\Research\\\\SVI_Flood_Project'"
      ]
     },
     "execution_count": 2,
     "metadata": {},
     "output_type": "execute_result"
    }
   ],
   "source": [
    "# set wd\n",
    "wd_path = \"C:\\\\Users\\\\rcompos\\\\OneDrive - North Carolina State University\\\\Documents\\\\Research\\\\SVI_Flood_Project\"\n",
    "os.chdir(wd_path)\n",
    "os.getcwd() # get wd\n",
    "#os.listdir() # get available data"
   ]
  },
  {
   "cell_type": "code",
   "execution_count": 11,
   "metadata": {},
   "outputs": [],
   "source": [
    "# Set data paths\n",
    "sub = pd.read_csv(\"Subnational\\\\sub_pov - selections.csv\")\n",
    "svi_cnty = pd.read_csv(\"SVI\\\\SVI2020_US_COUNTY.csv\")\n",
    "svi_tra = pd.read_csv(\"SVI\\\\SVI2020_US_tract.csv\")"
   ]
  },
  {
   "cell_type": "code",
   "execution_count": 4,
   "metadata": {},
   "outputs": [],
   "source": [
    "# View data\n",
    "\n",
    "#sub.head(5)\n",
    "#svi_cnty.head(5)\n",
    "#svi_tra.head(5)\n",
    "#sub.dtypes\n",
    "#svi_cnty.dtypes\n"
   ]
  },
  {
   "cell_type": "code",
   "execution_count": 16,
   "metadata": {},
   "outputs": [],
   "source": [
    "# Prep subnational data to add to svi\n",
    "sub_usa = sub[sub['code'] == 'USA'] # select usa data\n",
    "#len(sub_usa) # 51, includes D.C.\n",
    "#print(sub_usa[['STATE']].to_string(index=False)) # get list of states\n",
    "\n",
    "sub_usa = sub_usa.rename(columns = {'State':'STATE','Mean Rank (SVI)':'sub_mean_rank'}) # rename column to match svi data\n",
    "sub_usa = sub_usa[['STATE','sub_mean_rank']] # select columns\n",
    "sub_usa['sub_mean_rank'] = sub_usa['sub_mean_rank'].astype(float)\n",
    "#print(sub_usa.dtypes)\n",
    "\n",
    "#sub_usa.head()\n"
   ]
  },
  {
   "cell_type": "code",
   "execution_count": 6,
   "metadata": {},
   "outputs": [],
   "source": [
    "# Code to group & filter svi data\n",
    "\n",
    "# Group svi data by state\n",
    "#svi_st_m = svi_cnty.groupby('STATE').mean().reset_index()\n",
    "# svi_st_m_s = svi_st_m.iloc[:,np.r_[0, 11:40]] # filter columns\n",
    "#len(svi_st_m) # 51, includes D.C.\n",
    "#svi_st_m_s.head(5)\n",
    "#print(svi_st_m[['STATE']].to_string(index=False)) # get list of states"
   ]
  },
  {
   "cell_type": "code",
   "execution_count": 7,
   "metadata": {},
   "outputs": [],
   "source": [
    "# Combine svi & subnational datasets\n",
    "\n",
    "# Combine by state median\n",
    "svi_st_med = svi_cnty.groupby('STATE').median().reset_index()\n",
    "svi_st_med_merged = pd.merge(sub_usa, svi_st_med, on =['STATE'], how = 'left')\n",
    "#svi_st_med_merged.head()\n",
    "\n",
    "# Combine by state mean\n",
    "svi_st_m = svi_cnty.groupby('STATE').mean().reset_index()\n",
    "svi_st_merged = pd.merge(sub_usa, svi_st_m, on =['STATE'], how = 'left')\n",
    "#svi_st_merged.head()\n",
    "#svi_merged.dtypes\n",
    "\n",
    "# Combine by county\n",
    "svi_cnty_merged = pd.merge(svi_cnty, sub_usa, on =['STATE'], how = 'left')\n",
    "#svi_cnty_merged.head()\n",
    "\n",
    "# Combine by tract\n",
    "svi_tra_merged = pd.merge(svi_tra, sub_usa, on =['STATE'], how = 'left')\n",
    "#svi_tra_merged.head()\n"
   ]
  },
  {
   "attachments": {},
   "cell_type": "markdown",
   "metadata": {},
   "source": [
    "#### 2. Compare w/ simple linear correlation\n",
    "\n",
    "\n",
    "*Notes:* Closer to 0 is less correlated & closer to 1 or -1 is more correlated, datasets must be same length\n",
    "\n",
    "*Source:*  https://www.geeksforgeeks.org/exploring-correlation-in-python/"
   ]
  },
  {
   "cell_type": "code",
   "execution_count": 10,
   "metadata": {},
   "outputs": [
    {
     "name": "stdout",
     "output_type": "stream",
     "text": [
      "Rank by State svi median\n",
      "               sub_mean_rank\n",
      "sub_mean_rank       1.000000\n",
      "EP_NOHSDP           0.638436\n",
      "EPL_NOHSDP          0.637651\n",
      "RPL_THEME1          0.607627\n",
      "SPL_THEME1          0.600100\n",
      "EP_NOINT            0.579451\n",
      "RPL_THEMES          0.578293\n",
      "\n",
      "Rank by State svi mean\n",
      "               sub_mean_rank\n",
      "sub_mean_rank       1.000000\n",
      "EPL_NOHSDP          0.642151\n",
      "EP_NOHSDP           0.629543\n",
      "RPL_THEME1          0.610676\n",
      "RPL_THEMES          0.610454\n",
      "SPL_THEMES          0.606817\n",
      "SPL_THEME1          0.605124\n",
      "\n",
      "Rank by County\n",
      "               sub_mean_rank\n",
      "sub_mean_rank       1.000000\n",
      "EP_AFAM             0.490767\n",
      "RPL_THEME1          0.473343\n",
      "\n"
     ]
    }
   ],
   "source": [
    "# Find the pearson correlations matrix\n",
    "\n",
    "# By state median\n",
    "svi_st_med_corr = svi_st_med_merged.corr(method = 'pearson') # run correlation\n",
    "print('Rank by State svi median')\n",
    "print(svi_st_med_corr[['sub_mean_rank']].sort_values(by='sub_mean_rank', ascending=False).head(7)) # order results\n",
    "print()\n",
    "\n",
    "# By state mean\n",
    "svi_st_corr = svi_st_merged.corr(method = 'pearson') # run correlation\n",
    "print('Rank by State svi mean')\n",
    "print(svi_st_corr[['sub_mean_rank']].sort_values(by='sub_mean_rank', ascending=False).head(7)) # order results\n",
    "print()\n",
    "\n",
    "# By county\n",
    "svi_cnty_corr = svi_cnty_merged.corr(method = 'pearson') # run correlation\n",
    "print('Rank by County')\n",
    "print(svi_cnty_corr[['sub_mean_rank']].sort_values(by='sub_mean_rank', ascending=False).head(3)) # order results\n",
    "print()\n",
    "\n",
    "# By tract\n",
    "svi_tra_corr = svi_tra_merged.corr(method = 'pearson') # run correlation\n",
    "#print('Rank by Tract')\n",
    "#print(svi_tra_corr[['sub_mean_rank']].sort_values(by='sub_mean_rank', ascending=False).head(5)) # order results\n"
   ]
  },
  {
   "attachments": {},
   "cell_type": "markdown",
   "metadata": {},
   "source": [
    "Definitions from \"SVI2020Documentation\"\n",
    "\n",
    "EPL_NOHSDP: Percentile percentage of persons with no high school diploma (age 25+) estimate\n",
    "EP_NOHSDP: Percentage of persons with no high school diploma (age 25+) estimate\n",
    "RPL_THEMES: Overall percentile ranking\n",
    "SPL_THEMES: Sum of series themes\n",
    "RPL_THEME1: Percentile ranking for Socioeconomic Status theme summary\n",
    "SPL_THEME1: Sum of series for Socioeconomic Status theme\n",
    "\n",
    "Four Themes: Socioeconomic status, househould characteristics, racial & ethnic minority status, housing type/transportation"
   ]
  },
  {
   "attachments": {},
   "cell_type": "markdown",
   "metadata": {},
   "source": [
    "#### 3. Add in HRLS Data"
   ]
  },
  {
   "cell_type": "code",
   "execution_count": null,
   "metadata": {},
   "outputs": [],
   "source": [
    "# paths\n",
    "hrls_kid = pd.read_csv(\"HRLS\\\\USA_children_under_five_2020-03-07.csv\")"
   ]
  },
  {
   "cell_type": "code",
   "execution_count": 14,
   "metadata": {},
   "outputs": [
    {
     "data": {
      "text/html": [
       "<div>\n",
       "<style scoped>\n",
       "    .dataframe tbody tr th:only-of-type {\n",
       "        vertical-align: middle;\n",
       "    }\n",
       "\n",
       "    .dataframe tbody tr th {\n",
       "        vertical-align: top;\n",
       "    }\n",
       "\n",
       "    .dataframe thead th {\n",
       "        text-align: right;\n",
       "    }\n",
       "</style>\n",
       "<table border=\"1\" class=\"dataframe\">\n",
       "  <thead>\n",
       "    <tr style=\"text-align: right;\">\n",
       "      <th></th>\n",
       "      <th>latitude</th>\n",
       "      <th>longitude</th>\n",
       "      <th>population</th>\n",
       "    </tr>\n",
       "  </thead>\n",
       "  <tbody>\n",
       "    <tr>\n",
       "      <th>0</th>\n",
       "      <td>29.795139</td>\n",
       "      <td>-90.838472</td>\n",
       "      <td>0.051276</td>\n",
       "    </tr>\n",
       "    <tr>\n",
       "      <th>1</th>\n",
       "      <td>29.795972</td>\n",
       "      <td>-90.837917</td>\n",
       "      <td>0.051276</td>\n",
       "    </tr>\n",
       "    <tr>\n",
       "      <th>2</th>\n",
       "      <td>29.795417</td>\n",
       "      <td>-90.838194</td>\n",
       "      <td>0.051276</td>\n",
       "    </tr>\n",
       "    <tr>\n",
       "      <th>3</th>\n",
       "      <td>29.796250</td>\n",
       "      <td>-90.837639</td>\n",
       "      <td>0.051276</td>\n",
       "    </tr>\n",
       "    <tr>\n",
       "      <th>4</th>\n",
       "      <td>29.795139</td>\n",
       "      <td>-90.838750</td>\n",
       "      <td>0.051276</td>\n",
       "    </tr>\n",
       "    <tr>\n",
       "      <th>...</th>\n",
       "      <td>...</td>\n",
       "      <td>...</td>\n",
       "      <td>...</td>\n",
       "    </tr>\n",
       "    <tr>\n",
       "      <th>124830131</th>\n",
       "      <td>42.549861</td>\n",
       "      <td>-94.179583</td>\n",
       "      <td>0.005594</td>\n",
       "    </tr>\n",
       "    <tr>\n",
       "      <th>124830132</th>\n",
       "      <td>42.553750</td>\n",
       "      <td>-94.187083</td>\n",
       "      <td>0.005594</td>\n",
       "    </tr>\n",
       "    <tr>\n",
       "      <th>124830133</th>\n",
       "      <td>42.552917</td>\n",
       "      <td>-94.179583</td>\n",
       "      <td>0.005594</td>\n",
       "    </tr>\n",
       "    <tr>\n",
       "      <th>124830134</th>\n",
       "      <td>42.551250</td>\n",
       "      <td>-94.180694</td>\n",
       "      <td>0.005594</td>\n",
       "    </tr>\n",
       "    <tr>\n",
       "      <th>124830135</th>\n",
       "      <td>42.551528</td>\n",
       "      <td>-94.179583</td>\n",
       "      <td>0.005594</td>\n",
       "    </tr>\n",
       "  </tbody>\n",
       "</table>\n",
       "<p>124830136 rows × 3 columns</p>\n",
       "</div>"
      ],
      "text/plain": [
       "            latitude  longitude  population\n",
       "0          29.795139 -90.838472    0.051276\n",
       "1          29.795972 -90.837917    0.051276\n",
       "2          29.795417 -90.838194    0.051276\n",
       "3          29.796250 -90.837639    0.051276\n",
       "4          29.795139 -90.838750    0.051276\n",
       "...              ...        ...         ...\n",
       "124830131  42.549861 -94.179583    0.005594\n",
       "124830132  42.553750 -94.187083    0.005594\n",
       "124830133  42.552917 -94.179583    0.005594\n",
       "124830134  42.551250 -94.180694    0.005594\n",
       "124830135  42.551528 -94.179583    0.005594\n",
       "\n",
       "[124830136 rows x 3 columns]"
      ]
     },
     "execution_count": 14,
     "metadata": {},
     "output_type": "execute_result"
    }
   ],
   "source": [
    "# explore ata\n",
    "hrls_kid.head(-5)"
   ]
  },
  {
   "cell_type": "code",
   "execution_count": null,
   "metadata": {},
   "outputs": [],
   "source": []
  },
  {
   "cell_type": "code",
   "execution_count": null,
   "metadata": {},
   "outputs": [],
   "source": []
  },
  {
   "attachments": {},
   "cell_type": "markdown",
   "metadata": {},
   "source": [
    "#### 4. Combine HRLS & Subnational Data"
   ]
  },
  {
   "cell_type": "code",
   "execution_count": null,
   "metadata": {},
   "outputs": [],
   "source": [
    "# combine HRLS and subnational data\n",
    "# new = d.merge(sub_usa, hrls, on =['STATE'], how = 'left')\n",
    "\n",
    "# take average of the 3 averages"
   ]
  },
  {
   "cell_type": "code",
   "execution_count": null,
   "metadata": {},
   "outputs": [],
   "source": []
  }
 ],
 "metadata": {
  "kernelspec": {
   "display_name": "base",
   "language": "python",
   "name": "python3"
  },
  "language_info": {
   "codemirror_mode": {
    "name": "ipython",
    "version": 3
   },
   "file_extension": ".py",
   "mimetype": "text/x-python",
   "name": "python",
   "nbconvert_exporter": "python",
   "pygments_lexer": "ipython3",
   "version": "3.9.13"
  },
  "orig_nbformat": 4
 },
 "nbformat": 4,
 "nbformat_minor": 2
}
