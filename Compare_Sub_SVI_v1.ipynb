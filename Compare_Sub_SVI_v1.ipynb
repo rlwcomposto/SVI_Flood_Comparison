{
 "cells": [
  {
   "attachments": {},
   "cell_type": "markdown",
   "metadata": {},
   "source": [
    "### Compare Subnational to SVI\n",
    "Compare subnational data to SVI data in the USA."
   ]
  },
  {
   "attachments": {},
   "cell_type": "markdown",
   "metadata": {},
   "source": [
    "#### 1. Clean Data"
   ]
  },
  {
   "cell_type": "code",
   "execution_count": 1,
   "metadata": {},
   "outputs": [],
   "source": [
    "# Import stuff\n",
    "import numpy as np\n",
    "import pandas as pd\n",
    "import os"
   ]
  },
  {
   "cell_type": "code",
   "execution_count": 2,
   "metadata": {},
   "outputs": [
    {
     "data": {
      "text/plain": [
       "'c:\\\\Users\\\\rcompos\\\\OneDrive - North Carolina State University\\\\Documents\\\\Research\\\\SVI_Flood_Project'"
      ]
     },
     "execution_count": 2,
     "metadata": {},
     "output_type": "execute_result"
    }
   ],
   "source": [
    "# set wd\n",
    "wd_path = \"C:\\\\Users\\\\rcompos\\\\OneDrive - North Carolina State University\\\\Documents\\\\Research\\\\SVI_Flood_Project\"\n",
    "os.chdir(wd_path)\n",
    "os.getcwd() # get wd\n",
    "#os.listdir() # get available data"
   ]
  },
  {
   "cell_type": "code",
   "execution_count": 3,
   "metadata": {},
   "outputs": [],
   "source": [
    "# Set data paths\n",
    "sub = pd.read_csv(\"Subnational\\\\sub_pov - selections.csv\")\n",
    "svi_cnty = pd.read_csv(\"SVI\\\\SVI2020_US_COUNTY.csv\")\n",
    "svi_tra = pd.read_csv(\"SVI\\\\SVI2020_US_tract.csv\")"
   ]
  },
  {
   "cell_type": "code",
   "execution_count": 36,
   "metadata": {},
   "outputs": [],
   "source": [
    "# View data\n",
    "#sub.head(5)\n",
    "#svi_cnty.head(5)\n",
    "#svi_tra.head(5)\n",
    "#sub.dtypes\n",
    "#svi_cnty.dtypes\n"
   ]
  },
  {
   "cell_type": "code",
   "execution_count": 35,
   "metadata": {},
   "outputs": [
    {
     "name": "stdout",
     "output_type": "stream",
     "text": [
      "STATE             object\n",
      "sub_mean_rank    float64\n",
      "dtype: object\n"
     ]
    }
   ],
   "source": [
    "# Prep sub data to add to svi\n",
    "sub_usa = sub[sub['code'] == 'USA'] # select usa data\n",
    "#len(sub_usa) # 51, includes D.C.\n",
    "#print(sub_usa[['STATE']].to_string(index=False)) # get list of states\n",
    "\n",
    "sub_usa = sub_usa.rename(columns = {'State':'STATE','Mean Rank (SVI)':'sub_mean_rank'}) # rename column to match svi data\n",
    "sub_usa = sub_usa[['STATE','sub_mean_rank']] # select columns\n",
    "sub_usa['sub_mean_rank'] = sub_usa['sub_mean_rank'].astype(float)\n",
    "#print(sub_usa.dtypes)\n",
    "\n",
    "#sub_usa.head()\n"
   ]
  },
  {
   "cell_type": "code",
   "execution_count": 37,
   "metadata": {},
   "outputs": [
    {
     "data": {
      "text/plain": [
       "51"
      ]
     },
     "execution_count": 37,
     "metadata": {},
     "output_type": "execute_result"
    }
   ],
   "source": [
    "# Prep svi data by grouping by state and one attribute\n",
    "#svi_st_m = svi_cnty.groupby('STATE')['E_POV150'].mean().reset_index(name='svi_pov')\n",
    "#svi_st_m = svi_st_m[['STATE','svi_pov']] # select columns"
   ]
  },
  {
   "cell_type": "code",
   "execution_count": 87,
   "metadata": {},
   "outputs": [],
   "source": [
    "# Prep svi data by grouping by state and multiple attributes\n",
    "svi_st_m = svi_cnty.groupby('STATE').mean().reset_index()\n",
    "svi_st_m = svi_st_m.iloc[:,np.r_[0, 11:40]]\n",
    "#len(svi_st_m) # 51, includes D.C.\n",
    "#svi_st_m.head(10)\n",
    "#print(svi_st_m[['STATE']].to_string(index=False)) # get list of states"
   ]
  },
  {
   "cell_type": "code",
   "execution_count": 88,
   "metadata": {},
   "outputs": [
    {
     "data": {
      "text/html": [
       "<div>\n",
       "<style scoped>\n",
       "    .dataframe tbody tr th:only-of-type {\n",
       "        vertical-align: middle;\n",
       "    }\n",
       "\n",
       "    .dataframe tbody tr th {\n",
       "        vertical-align: top;\n",
       "    }\n",
       "\n",
       "    .dataframe thead th {\n",
       "        text-align: right;\n",
       "    }\n",
       "</style>\n",
       "<table border=\"1\" class=\"dataframe\">\n",
       "  <thead>\n",
       "    <tr style=\"text-align: right;\">\n",
       "      <th></th>\n",
       "      <th>STATE</th>\n",
       "      <th>sub_mean_rank</th>\n",
       "      <th>E_POV150</th>\n",
       "      <th>M_POV150</th>\n",
       "      <th>E_UNEMP</th>\n",
       "      <th>M_UNEMP</th>\n",
       "      <th>E_HBURD</th>\n",
       "      <th>M_HBURD</th>\n",
       "      <th>E_NOHSDP</th>\n",
       "      <th>M_NOHSDP</th>\n",
       "      <th>...</th>\n",
       "      <th>M_LIMENG</th>\n",
       "      <th>E_MINRTY</th>\n",
       "      <th>M_MINRTY</th>\n",
       "      <th>E_MUNIT</th>\n",
       "      <th>M_MUNIT</th>\n",
       "      <th>E_MOBILE</th>\n",
       "      <th>M_MOBILE</th>\n",
       "      <th>E_CROWD</th>\n",
       "      <th>M_CROWD</th>\n",
       "      <th>E_NOVEH</th>\n",
       "    </tr>\n",
       "  </thead>\n",
       "  <tbody>\n",
       "    <tr>\n",
       "      <th>0</th>\n",
       "      <td>Alabama</td>\n",
       "      <td>109.611111</td>\n",
       "      <td>18423.119403</td>\n",
       "      <td>1246.850746</td>\n",
       "      <td>1870.791045</td>\n",
       "      <td>308.029851</td>\n",
       "      <td>6720.477612</td>\n",
       "      <td>524.014925</td>\n",
       "      <td>6551.447761</td>\n",
       "      <td>572.686567</td>\n",
       "      <td>...</td>\n",
       "      <td>212.074627</td>\n",
       "      <td>25388.641791</td>\n",
       "      <td>590.820896</td>\n",
       "      <td>2491.522388</td>\n",
       "      <td>248.134328</td>\n",
       "      <td>4421.358209</td>\n",
       "      <td>425.985075</td>\n",
       "      <td>469.358209</td>\n",
       "      <td>137.537313</td>\n",
       "      <td>1669.388060</td>\n",
       "    </tr>\n",
       "    <tr>\n",
       "      <th>1</th>\n",
       "      <td>Alaska</td>\n",
       "      <td>105.333333</td>\n",
       "      <td>4160.066667</td>\n",
       "      <td>406.200000</td>\n",
       "      <td>880.966667</td>\n",
       "      <td>136.466667</td>\n",
       "      <td>2061.600000</td>\n",
       "      <td>175.966667</td>\n",
       "      <td>1105.866667</td>\n",
       "      <td>157.700000</td>\n",
       "      <td>...</td>\n",
       "      <td>116.066667</td>\n",
       "      <td>9900.366667</td>\n",
       "      <td>3491.533333</td>\n",
       "      <td>808.433333</td>\n",
       "      <td>97.833333</td>\n",
       "      <td>472.033333</td>\n",
       "      <td>88.333333</td>\n",
       "      <td>550.900000</td>\n",
       "      <td>94.733333</td>\n",
       "      <td>787.566667</td>\n",
       "    </tr>\n",
       "    <tr>\n",
       "      <th>2</th>\n",
       "      <td>Arizona</td>\n",
       "      <td>102.777778</td>\n",
       "      <td>108363.600000</td>\n",
       "      <td>3027.400000</td>\n",
       "      <td>13290.533333</td>\n",
       "      <td>790.266667</td>\n",
       "      <td>48460.866667</td>\n",
       "      <td>1308.666667</td>\n",
       "      <td>39194.600000</td>\n",
       "      <td>1166.133333</td>\n",
       "      <td>...</td>\n",
       "      <td>979.000000</td>\n",
       "      <td>219356.133333</td>\n",
       "      <td>18233.733333</td>\n",
       "      <td>23704.666667</td>\n",
       "      <td>734.000000</td>\n",
       "      <td>20927.066667</td>\n",
       "      <td>846.600000</td>\n",
       "      <td>7766.866667</td>\n",
       "      <td>559.533333</td>\n",
       "      <td>10266.266667</td>\n",
       "    </tr>\n",
       "    <tr>\n",
       "      <th>3</th>\n",
       "      <td>Arkansas</td>\n",
       "      <td>107.166667</td>\n",
       "      <td>10643.733333</td>\n",
       "      <td>896.413333</td>\n",
       "      <td>956.053333</td>\n",
       "      <td>219.133333</td>\n",
       "      <td>3602.440000</td>\n",
       "      <td>373.240000</td>\n",
       "      <td>3471.466667</td>\n",
       "      <td>387.946667</td>\n",
       "      <td>...</td>\n",
       "      <td>166.946667</td>\n",
       "      <td>11423.653333</td>\n",
       "      <td>434.253333</td>\n",
       "      <td>1190.440000</td>\n",
       "      <td>169.280000</td>\n",
       "      <td>2145.173333</td>\n",
       "      <td>293.506667</td>\n",
       "      <td>433.306667</td>\n",
       "      <td>131.826667</td>\n",
       "      <td>958.240000</td>\n",
       "    </tr>\n",
       "    <tr>\n",
       "      <th>4</th>\n",
       "      <td>California</td>\n",
       "      <td>105.277778</td>\n",
       "      <td>139035.517241</td>\n",
       "      <td>3439.482759</td>\n",
       "      <td>21191.017241</td>\n",
       "      <td>945.948276</td>\n",
       "      <td>71735.517241</td>\n",
       "      <td>1533.637931</td>\n",
       "      <td>73905.827586</td>\n",
       "      <td>1530.775862</td>\n",
       "      <td>...</td>\n",
       "      <td>1505.603448</td>\n",
       "      <td>430704.793103</td>\n",
       "      <td>2924.913793</td>\n",
       "      <td>43272.913793</td>\n",
       "      <td>940.327586</td>\n",
       "      <td>8890.793103</td>\n",
       "      <td>526.068966</td>\n",
       "      <td>18547.206897</td>\n",
       "      <td>715.448276</td>\n",
       "      <td>15868.310345</td>\n",
       "    </tr>\n",
       "  </tbody>\n",
       "</table>\n",
       "<p>5 rows × 31 columns</p>\n",
       "</div>"
      ],
      "text/plain": [
       "        STATE  sub_mean_rank       E_POV150     M_POV150       E_UNEMP  \\\n",
       "0     Alabama     109.611111   18423.119403  1246.850746   1870.791045   \n",
       "1      Alaska     105.333333    4160.066667   406.200000    880.966667   \n",
       "2     Arizona     102.777778  108363.600000  3027.400000  13290.533333   \n",
       "3    Arkansas     107.166667   10643.733333   896.413333    956.053333   \n",
       "4  California     105.277778  139035.517241  3439.482759  21191.017241   \n",
       "\n",
       "      M_UNEMP       E_HBURD      M_HBURD      E_NOHSDP     M_NOHSDP  ...  \\\n",
       "0  308.029851   6720.477612   524.014925   6551.447761   572.686567  ...   \n",
       "1  136.466667   2061.600000   175.966667   1105.866667   157.700000  ...   \n",
       "2  790.266667  48460.866667  1308.666667  39194.600000  1166.133333  ...   \n",
       "3  219.133333   3602.440000   373.240000   3471.466667   387.946667  ...   \n",
       "4  945.948276  71735.517241  1533.637931  73905.827586  1530.775862  ...   \n",
       "\n",
       "      M_LIMENG       E_MINRTY      M_MINRTY       E_MUNIT     M_MUNIT  \\\n",
       "0   212.074627   25388.641791    590.820896   2491.522388  248.134328   \n",
       "1   116.066667    9900.366667   3491.533333    808.433333   97.833333   \n",
       "2   979.000000  219356.133333  18233.733333  23704.666667  734.000000   \n",
       "3   166.946667   11423.653333    434.253333   1190.440000  169.280000   \n",
       "4  1505.603448  430704.793103   2924.913793  43272.913793  940.327586   \n",
       "\n",
       "       E_MOBILE    M_MOBILE       E_CROWD     M_CROWD       E_NOVEH  \n",
       "0   4421.358209  425.985075    469.358209  137.537313   1669.388060  \n",
       "1    472.033333   88.333333    550.900000   94.733333    787.566667  \n",
       "2  20927.066667  846.600000   7766.866667  559.533333  10266.266667  \n",
       "3   2145.173333  293.506667    433.306667  131.826667    958.240000  \n",
       "4   8890.793103  526.068966  18547.206897  715.448276  15868.310345  \n",
       "\n",
       "[5 rows x 31 columns]"
      ]
     },
     "execution_count": 88,
     "metadata": {},
     "output_type": "execute_result"
    }
   ],
   "source": [
    "# Combine datasets\n",
    "svi_merged = pd.merge(sub_usa, svi_st_m, on =['STATE'], how = 'left')\n",
    "svi_merged.head()\n",
    "#svi_merged.dtypes"
   ]
  },
  {
   "attachments": {},
   "cell_type": "markdown",
   "metadata": {},
   "source": [
    "#### 2. Compare w/ simple linear correlation\n",
    "\n",
    "Notes - closer to 0 is less correlated & closer to 1 or -1 is more correlated, datasets must be same length\n",
    "\n",
    "Source - https://www.geeksforgeeks.org/exploring-correlation-in-python/"
   ]
  },
  {
   "cell_type": "code",
   "execution_count": 91,
   "metadata": {},
   "outputs": [
    {
     "data": {
      "text/html": [
       "<div>\n",
       "<style scoped>\n",
       "    .dataframe tbody tr th:only-of-type {\n",
       "        vertical-align: middle;\n",
       "    }\n",
       "\n",
       "    .dataframe tbody tr th {\n",
       "        vertical-align: top;\n",
       "    }\n",
       "\n",
       "    .dataframe thead th {\n",
       "        text-align: right;\n",
       "    }\n",
       "</style>\n",
       "<table border=\"1\" class=\"dataframe\">\n",
       "  <thead>\n",
       "    <tr style=\"text-align: right;\">\n",
       "      <th></th>\n",
       "      <th>sub_mean_rank</th>\n",
       "    </tr>\n",
       "  </thead>\n",
       "  <tbody>\n",
       "    <tr>\n",
       "      <th>sub_mean_rank</th>\n",
       "      <td>1.000000</td>\n",
       "    </tr>\n",
       "    <tr>\n",
       "      <th>M_MOBILE</th>\n",
       "      <td>0.276743</td>\n",
       "    </tr>\n",
       "    <tr>\n",
       "      <th>M_AGE17</th>\n",
       "      <td>0.205463</td>\n",
       "    </tr>\n",
       "    <tr>\n",
       "      <th>E_MOBILE</th>\n",
       "      <td>0.193927</td>\n",
       "    </tr>\n",
       "    <tr>\n",
       "      <th>M_UNINSUR</th>\n",
       "      <td>0.187677</td>\n",
       "    </tr>\n",
       "    <tr>\n",
       "      <th>M_NOHSDP</th>\n",
       "      <td>0.173680</td>\n",
       "    </tr>\n",
       "    <tr>\n",
       "      <th>M_POV150</th>\n",
       "      <td>0.152580</td>\n",
       "    </tr>\n",
       "    <tr>\n",
       "      <th>M_UNEMP</th>\n",
       "      <td>0.129511</td>\n",
       "    </tr>\n",
       "    <tr>\n",
       "      <th>E_UNINSUR</th>\n",
       "      <td>0.128021</td>\n",
       "    </tr>\n",
       "    <tr>\n",
       "      <th>E_POV150</th>\n",
       "      <td>0.124820</td>\n",
       "    </tr>\n",
       "  </tbody>\n",
       "</table>\n",
       "</div>"
      ],
      "text/plain": [
       "               sub_mean_rank\n",
       "sub_mean_rank       1.000000\n",
       "M_MOBILE            0.276743\n",
       "M_AGE17             0.205463\n",
       "E_MOBILE            0.193927\n",
       "M_UNINSUR           0.187677\n",
       "M_NOHSDP            0.173680\n",
       "M_POV150            0.152580\n",
       "M_UNEMP             0.129511\n",
       "E_UNINSUR           0.128021\n",
       "E_POV150            0.124820"
      ]
     },
     "execution_count": 91,
     "metadata": {},
     "output_type": "execute_result"
    }
   ],
   "source": [
    "# Find the pearson correlations matrix\n",
    "svi_corr = svi_merged.corr(method = 'pearson') # run correlation\n",
    "svi_corr[['sub_mean_rank']].sort_values(by='sub_mean_rank', ascending=False).head(10) # order results"
   ]
  }
 ],
 "metadata": {
  "kernelspec": {
   "display_name": "base",
   "language": "python",
   "name": "python3"
  },
  "language_info": {
   "codemirror_mode": {
    "name": "ipython",
    "version": 3
   },
   "file_extension": ".py",
   "mimetype": "text/x-python",
   "name": "python",
   "nbconvert_exporter": "python",
   "pygments_lexer": "ipython3",
   "version": "3.9.13"
  },
  "orig_nbformat": 4
 },
 "nbformat": 4,
 "nbformat_minor": 2
}
